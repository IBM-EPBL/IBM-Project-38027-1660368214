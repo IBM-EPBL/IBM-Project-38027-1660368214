{
  "nbformat": 4,
  "nbformat_minor": 0,
  "metadata": {
    "colab": {
      "provenance": [],
      "collapsed_sections": []
    },
    "kernelspec": {
      "name": "python3",
      "display_name": "Python 3"
    },
    "language_info": {
      "name": "python"
    }
  },
  "cells": [
    {
      "cell_type": "code",
      "execution_count": 6,
      "metadata": {
        "id": "OL8RXEly8Cdc"
      },
      "outputs": [],
      "source": [
        "import numpy\n",
        "import tensorflow\n",
        "from tensorflow.keras.datasets import mnist\n",
        "from tensorflow.keras.models import Sequential\n",
        "from tensorflow.keras import layers\n",
        "from tensorflow.keras.layers import Dense, Flatten\n",
        "\n",
        "from tensorflow.keras.layers import Conv2D\n",
        "from tensorflow.keras.optimizers import Adam \n",
        "from keras.utils import np_utils"
      ]
    },
    {
      "cell_type": "code",
      "source": [
        "(x_train, y_train),(x_test,y_test) = mnist.load_data()"
      ],
      "metadata": {
        "colab": {
          "base_uri": "https://localhost:8080/"
        },
        "id": "DXT__8RQ_5YL",
        "outputId": "bc9ca142-39ee-4db9-8ab5-26f3aef67114"
      },
      "execution_count": 11,
      "outputs": [
        {
          "output_type": "stream",
          "name": "stdout",
          "text": [
            "Downloading data from https://storage.googleapis.com/tensorflow/tf-keras-datasets/mnist.npz\n",
            "11493376/11490434 [==============================] - 0s 0us/step\n",
            "11501568/11490434 [==============================] - 0s 0us/step\n"
          ]
        }
      ]
    },
    {
      "cell_type": "code",
      "source": [
        "print(x_train.shape)\n",
        "print(x_test.shape)"
      ],
      "metadata": {
        "colab": {
          "base_uri": "https://localhost:8080/"
        },
        "id": "JtbYdDR0AwHH",
        "outputId": "e176cac5-d7da-4661-ed14-48b172bbc8e0"
      },
      "execution_count": 12,
      "outputs": [
        {
          "output_type": "stream",
          "name": "stdout",
          "text": [
            "(60000, 28, 28)\n",
            "(10000, 28, 28)\n"
          ]
        }
      ]
    },
    {
      "cell_type": "code",
      "source": [
        "x_train[0]"
      ],
      "metadata": {
        "colab": {
          "base_uri": "https://localhost:8080/"
        },
        "id": "rqiFWWFKBaio",
        "outputId": "2fb0c5e4-8b7f-46c1-b6c0-f353ab427a64"
      },
      "execution_count": 13,
      "outputs": [
        {
          "output_type": "execute_result",
          "data": {
            "text/plain": [
              "array([[  0,   0,   0,   0,   0,   0,   0,   0,   0,   0,   0,   0,   0,\n",
              "          0,   0,   0,   0,   0,   0,   0,   0,   0,   0,   0,   0,   0,\n",
              "          0,   0],\n",
              "       [  0,   0,   0,   0,   0,   0,   0,   0,   0,   0,   0,   0,   0,\n",
              "          0,   0,   0,   0,   0,   0,   0,   0,   0,   0,   0,   0,   0,\n",
              "          0,   0],\n",
              "       [  0,   0,   0,   0,   0,   0,   0,   0,   0,   0,   0,   0,   0,\n",
              "          0,   0,   0,   0,   0,   0,   0,   0,   0,   0,   0,   0,   0,\n",
              "          0,   0],\n",
              "       [  0,   0,   0,   0,   0,   0,   0,   0,   0,   0,   0,   0,   0,\n",
              "          0,   0,   0,   0,   0,   0,   0,   0,   0,   0,   0,   0,   0,\n",
              "          0,   0],\n",
              "       [  0,   0,   0,   0,   0,   0,   0,   0,   0,   0,   0,   0,   0,\n",
              "          0,   0,   0,   0,   0,   0,   0,   0,   0,   0,   0,   0,   0,\n",
              "          0,   0],\n",
              "       [  0,   0,   0,   0,   0,   0,   0,   0,   0,   0,   0,   0,   3,\n",
              "         18,  18,  18, 126, 136, 175,  26, 166, 255, 247, 127,   0,   0,\n",
              "          0,   0],\n",
              "       [  0,   0,   0,   0,   0,   0,   0,   0,  30,  36,  94, 154, 170,\n",
              "        253, 253, 253, 253, 253, 225, 172, 253, 242, 195,  64,   0,   0,\n",
              "          0,   0],\n",
              "       [  0,   0,   0,   0,   0,   0,   0,  49, 238, 253, 253, 253, 253,\n",
              "        253, 253, 253, 253, 251,  93,  82,  82,  56,  39,   0,   0,   0,\n",
              "          0,   0],\n",
              "       [  0,   0,   0,   0,   0,   0,   0,  18, 219, 253, 253, 253, 253,\n",
              "        253, 198, 182, 247, 241,   0,   0,   0,   0,   0,   0,   0,   0,\n",
              "          0,   0],\n",
              "       [  0,   0,   0,   0,   0,   0,   0,   0,  80, 156, 107, 253, 253,\n",
              "        205,  11,   0,  43, 154,   0,   0,   0,   0,   0,   0,   0,   0,\n",
              "          0,   0],\n",
              "       [  0,   0,   0,   0,   0,   0,   0,   0,   0,  14,   1, 154, 253,\n",
              "         90,   0,   0,   0,   0,   0,   0,   0,   0,   0,   0,   0,   0,\n",
              "          0,   0],\n",
              "       [  0,   0,   0,   0,   0,   0,   0,   0,   0,   0,   0, 139, 253,\n",
              "        190,   2,   0,   0,   0,   0,   0,   0,   0,   0,   0,   0,   0,\n",
              "          0,   0],\n",
              "       [  0,   0,   0,   0,   0,   0,   0,   0,   0,   0,   0,  11, 190,\n",
              "        253,  70,   0,   0,   0,   0,   0,   0,   0,   0,   0,   0,   0,\n",
              "          0,   0],\n",
              "       [  0,   0,   0,   0,   0,   0,   0,   0,   0,   0,   0,   0,  35,\n",
              "        241, 225, 160, 108,   1,   0,   0,   0,   0,   0,   0,   0,   0,\n",
              "          0,   0],\n",
              "       [  0,   0,   0,   0,   0,   0,   0,   0,   0,   0,   0,   0,   0,\n",
              "         81, 240, 253, 253, 119,  25,   0,   0,   0,   0,   0,   0,   0,\n",
              "          0,   0],\n",
              "       [  0,   0,   0,   0,   0,   0,   0,   0,   0,   0,   0,   0,   0,\n",
              "          0,  45, 186, 253, 253, 150,  27,   0,   0,   0,   0,   0,   0,\n",
              "          0,   0],\n",
              "       [  0,   0,   0,   0,   0,   0,   0,   0,   0,   0,   0,   0,   0,\n",
              "          0,   0,  16,  93, 252, 253, 187,   0,   0,   0,   0,   0,   0,\n",
              "          0,   0],\n",
              "       [  0,   0,   0,   0,   0,   0,   0,   0,   0,   0,   0,   0,   0,\n",
              "          0,   0,   0,   0, 249, 253, 249,  64,   0,   0,   0,   0,   0,\n",
              "          0,   0],\n",
              "       [  0,   0,   0,   0,   0,   0,   0,   0,   0,   0,   0,   0,   0,\n",
              "          0,  46, 130, 183, 253, 253, 207,   2,   0,   0,   0,   0,   0,\n",
              "          0,   0],\n",
              "       [  0,   0,   0,   0,   0,   0,   0,   0,   0,   0,   0,   0,  39,\n",
              "        148, 229, 253, 253, 253, 250, 182,   0,   0,   0,   0,   0,   0,\n",
              "          0,   0],\n",
              "       [  0,   0,   0,   0,   0,   0,   0,   0,   0,   0,  24, 114, 221,\n",
              "        253, 253, 253, 253, 201,  78,   0,   0,   0,   0,   0,   0,   0,\n",
              "          0,   0],\n",
              "       [  0,   0,   0,   0,   0,   0,   0,   0,  23,  66, 213, 253, 253,\n",
              "        253, 253, 198,  81,   2,   0,   0,   0,   0,   0,   0,   0,   0,\n",
              "          0,   0],\n",
              "       [  0,   0,   0,   0,   0,   0,  18, 171, 219, 253, 253, 253, 253,\n",
              "        195,  80,   9,   0,   0,   0,   0,   0,   0,   0,   0,   0,   0,\n",
              "          0,   0],\n",
              "       [  0,   0,   0,   0,  55, 172, 226, 253, 253, 253, 253, 244, 133,\n",
              "         11,   0,   0,   0,   0,   0,   0,   0,   0,   0,   0,   0,   0,\n",
              "          0,   0],\n",
              "       [  0,   0,   0,   0, 136, 253, 253, 253, 212, 135, 132,  16,   0,\n",
              "          0,   0,   0,   0,   0,   0,   0,   0,   0,   0,   0,   0,   0,\n",
              "          0,   0],\n",
              "       [  0,   0,   0,   0,   0,   0,   0,   0,   0,   0,   0,   0,   0,\n",
              "          0,   0,   0,   0,   0,   0,   0,   0,   0,   0,   0,   0,   0,\n",
              "          0,   0],\n",
              "       [  0,   0,   0,   0,   0,   0,   0,   0,   0,   0,   0,   0,   0,\n",
              "          0,   0,   0,   0,   0,   0,   0,   0,   0,   0,   0,   0,   0,\n",
              "          0,   0],\n",
              "       [  0,   0,   0,   0,   0,   0,   0,   0,   0,   0,   0,   0,   0,\n",
              "          0,   0,   0,   0,   0,   0,   0,   0,   0,   0,   0,   0,   0,\n",
              "          0,   0]], dtype=uint8)"
            ]
          },
          "metadata": {},
          "execution_count": 13
        }
      ]
    },
    {
      "cell_type": "code",
      "source": [
        "y_train[0]"
      ],
      "metadata": {
        "colab": {
          "base_uri": "https://localhost:8080/"
        },
        "id": "GdAeg7GxBoj0",
        "outputId": "7eadc658-4fda-4c73-ba9b-5a0580f6073a"
      },
      "execution_count": 14,
      "outputs": [
        {
          "output_type": "execute_result",
          "data": {
            "text/plain": [
              "5"
            ]
          },
          "metadata": {},
          "execution_count": 14
        }
      ]
    },
    {
      "cell_type": "code",
      "source": [
        "import matplotlib.pyplot as plt\n",
        "plt.imshow(x_train[0])"
      ],
      "metadata": {
        "colab": {
          "base_uri": "https://localhost:8080/",
          "height": 282
        },
        "id": "9ZyGMsh9BuP0",
        "outputId": "75fecaf4-050c-41f7-9c28-93560241762b"
      },
      "execution_count": 15,
      "outputs": [
        {
          "output_type": "execute_result",
          "data": {
            "text/plain": [
              "<matplotlib.image.AxesImage at 0x7f7247a01110>"
            ]
          },
          "metadata": {},
          "execution_count": 15
        },
        {
          "output_type": "display_data",
          "data": {
            "text/plain": [
              "<Figure size 432x288 with 1 Axes>"
            ],
            "image/png": "[encoded data removed]"
          },
          "metadata": {
            "needs_background": "light"
          }
        }
      ]
    },
    {
      "cell_type": "code",
      "source": [
        "x_train = x_train.reshape(60000, 28, 28, 1).astype('float32')\n",
        "x_test = x_test.reshape(10000, 28, 28, 1).astype('float32')"
      ],
      "metadata": {
        "id": "rHU308-_B7t9"
      },
      "execution_count": 20,
      "outputs": []
    },
    {
      "cell_type": "code",
      "source": [
        "number_of_classes = 10\n",
        "y_train = np_utils.to_categorical(y_train, number_of_classes)\n",
        "y_test = np_utils.to_categorical(y_test,number_of_classes)"
      ],
      "metadata": {
        "id": "R61483b2DIka"
      },
      "execution_count": 23,
      "outputs": []
    },
    {
      "cell_type": "code",
      "source": [
        "model=Sequential()\n",
        "\n",
        "model.add(Conv2D(64,(3,3),input_shape=(28,28,1),activation='relu'))\n",
        "model.add(Conv2D(32,(3,3),activation='relu'))\n",
        "\n",
        "model.add(Flatten())\n",
        "\n",
        "model.add(Dense(number_of_classes,activation='softmax'))"
      ],
      "metadata": {
        "id": "PyiGx-UXDt0E"
      },
      "execution_count": 24,
      "outputs": []
    },
    {
      "cell_type": "code",
      "source": [
        "model.compile(loss='categorical_crossentropy',optimizer=\"Adam\", metrics=['accuracy'])"
      ],
      "metadata": {
        "id": "BDc8chViEXlD"
      },
      "execution_count": 25,
      "outputs": []
    },
    {
      "cell_type": "code",
      "source": [
        "model.fit(x_train,y_train,validation_data=(x_test,y_test),epochs=5,batch_size=32)"
      ],
      "metadata": {
        "id": "WyYdQ4-LEo7B",
        "outputId": "c98a4a52-89c9-41a6-d916-abe0b513506c",
        "colab": {
          "base_uri": "https://localhost:8080/"
        }
      },
      "execution_count": 26,
      "outputs": [
        {
          "output_type": "stream",
          "name": "stdout",
          "text": [
            "Epoch 1/5\n",
            "1875/1875 [==============================] - 233s 124ms/step - loss: 0.2494 - accuracy: 0.9508 - val_loss: 0.0881 - val_accuracy: 0.9749\n",
            "Epoch 2/5\n",
            "1875/1875 [==============================] - 260s 139ms/step - loss: 0.0744 - accuracy: 0.9773 - val_loss: 0.0753 - val_accuracy: 0.9746\n",
            "Epoch 3/5\n",
            "1875/1875 [==============================] - 261s 139ms/step - loss: 0.0474 - accuracy: 0.9848 - val_loss: 0.0914 - val_accuracy: 0.9751\n",
            "Epoch 4/5\n",
            "1875/1875 [==============================] - 238s 127ms/step - loss: 0.0394 - accuracy: 0.9876 - val_loss: 0.0957 - val_accuracy: 0.9763\n",
            "Epoch 5/5\n",
            "1875/1875 [==============================] - 199s 106ms/step - loss: 0.0302 - accuracy: 0.9905 - val_loss: 0.1026 - val_accuracy: 0.9791\n"
          ]
        },
        {
          "output_type": "execute_result",
          "data": {
            "text/plain": [
              "<keras.callbacks.History at 0x7f7242026450>"
            ]
          },
          "metadata": {},
          "execution_count": 26
        }
      ]
    },
    {
      "cell_type": "code",
      "source": [
        "metrics=model.evaluate(x_test,y_test,verbose=0)\n",
        "print(\"Metrics(Test loss & Test Accuracy): \")\n",
        "print(metrics)"
      ],
      "metadata": {
        "id": "CboZZdroNrQ0",
        "outputId": "15ccd90e-d3fd-42d0-dfb0-6599f6c9db0d",
        "colab": {
          "base_uri": "https://localhost:8080/"
        }
      },
      "execution_count": 27,
      "outputs": [
        {
          "output_type": "stream",
          "name": "stdout",
          "text": [
            "Metrics(Test loss & Test Accuracy): \n",
            "[0.102630116045475, 0.9790999889373779]\n"
          ]
        }
      ]
    },
    {
      "cell_type": "code",
      "source": [
        "prediction=model.predict(x_test[:4])\n",
        "print(prediction)"
      ],
      "metadata": {
        "id": "I3ptWyInOYXJ",
        "outputId": "0371279a-09c0-4e4b-bf56-f219ed0855ba",
        "colab": {
          "base_uri": "https://localhost:8080/"
        }
      },
      "execution_count": 28,
      "outputs": [
        {
          "output_type": "stream",
          "name": "stdout",
          "text": [
            "[[1.7586854e-13 2.6823407e-24 9.7830119e-11 4.8781243e-11 6.9613751e-21\n",
            "  4.0180417e-19 4.5379036e-25 1.0000000e+00 6.1121404e-13 3.0557033e-12]\n",
            " [1.1318991e-09 1.6833001e-14 1.0000000e+00 1.0231794e-15 1.2875592e-19\n",
            "  3.0918446e-17 5.2377203e-10 8.6678230e-24 1.5153222e-12 6.3229757e-20]\n",
            " [9.3043901e-09 9.9978179e-01 2.7364287e-08 5.0720725e-12 1.9622537e-05\n",
            "  2.3455220e-07 6.8224253e-11 5.0131920e-08 1.9826398e-04 3.7779860e-10]\n",
            " [1.0000000e+00 1.2143117e-19 6.3855571e-14 8.3454252e-19 2.7454170e-16\n",
            "  3.5484185e-12 4.5562681e-12 5.4999603e-18 1.5008056e-15 8.1709907e-14]]\n"
          ]
        }
      ]
    },
    {
      "cell_type": "code",
      "source": [
        "import numpy  as np\n",
        "print(np.argmax(prediction,axis=1))\n",
        "print(y_test[:4])"
      ],
      "metadata": {
        "id": "voQPe20YOjqN",
        "outputId": "17063ea0-a4be-4e24-a2d8-fad566d7c3e7",
        "colab": {
          "base_uri": "https://localhost:8080/"
        }
      },
      "execution_count": 29,
      "outputs": [
        {
          "output_type": "stream",
          "name": "stdout",
          "text": [
            "[7 2 1 0]\n",
            "[[0. 0. 0. 0. 0. 0. 0. 1. 0. 0.]\n",
            " [0. 0. 1. 0. 0. 0. 0. 0. 0. 0.]\n",
            " [0. 1. 0. 0. 0. 0. 0. 0. 0. 0.]\n",
            " [1. 0. 0. 0. 0. 0. 0. 0. 0. 0.]]\n"
          ]
        }
      ]
    },
    {
      "cell_type": "code",
      "source": [
        "metrics=model.evaluate(x_test,y_test,verbose=0)\n",
        "print(\"Metrics(Test loss & Test Accuracy): \")\n",
        "print(metrics)"
      ],
      "metadata": {
        "id": "p9prkmvgO-77",
        "outputId": "2bfb8d19-e042-49d9-df25-824d2ca281e7",
        "colab": {
          "base_uri": "https://localhost:8080/"
        }
      },
      "execution_count": 30,
      "outputs": [
        {
          "output_type": "stream",
          "name": "stdout",
          "text": [
            "Metrics(Test loss & Test Accuracy): \n",
            "[0.102630116045475, 0.9790999889373779]\n"
          ]
        }
      ]
    },
    {
      "cell_type": "code",
      "source": [
        "prediction=model.predict(x_test[:4])\n",
        "print(prediction)"
      ],
      "metadata": {
        "id": "FkO3QBACPNZ_",
        "outputId": "4944be44-8596-48c1-c02f-2ef420b71b53",
        "colab": {
          "base_uri": "https://localhost:8080/"
        }
      },
      "execution_count": 31,
      "outputs": [
        {
          "output_type": "stream",
          "name": "stdout",
          "text": [
            "[[1.7586854e-13 2.6823407e-24 9.7830119e-11 4.8781243e-11 6.9613751e-21\n",
            "  4.0180417e-19 4.5379036e-25 1.0000000e+00 6.1121404e-13 3.0557033e-12]\n",
            " [1.1318991e-09 1.6833001e-14 1.0000000e+00 1.0231794e-15 1.2875592e-19\n",
            "  3.0918446e-17 5.2377203e-10 8.6678230e-24 1.5153222e-12 6.3229757e-20]\n",
            " [9.3043901e-09 9.9978179e-01 2.7364287e-08 5.0720725e-12 1.9622537e-05\n",
            "  2.3455220e-07 6.8224253e-11 5.0131920e-08 1.9826398e-04 3.7779860e-10]\n",
            " [1.0000000e+00 1.2143117e-19 6.3855571e-14 8.3454252e-19 2.7454170e-16\n",
            "  3.5484185e-12 4.5562681e-12 5.4999603e-18 1.5008056e-15 8.1709907e-14]]\n"
          ]
        }
      ]
    },
    {
      "cell_type": "code",
      "source": [
        "import numpy  as np\n",
        "print(np.argmax(prediction,axis=1))\n",
        "print(y_test[:4])"
      ],
      "metadata": {
        "id": "iC6U2J-mPVFS",
        "outputId": "e9fe162b-0b1e-4bf2-daca-761a8d66744f",
        "colab": {
          "base_uri": "https://localhost:8080/"
        }
      },
      "execution_count": 32,
      "outputs": [
        {
          "output_type": "stream",
          "name": "stdout",
          "text": [
            "[7 2 1 0]\n",
            "[[0. 0. 0. 0. 0. 0. 0. 1. 0. 0.]\n",
            " [0. 0. 1. 0. 0. 0. 0. 0. 0. 0.]\n",
            " [0. 1. 0. 0. 0. 0. 0. 0. 0. 0.]\n",
            " [1. 0. 0. 0. 0. 0. 0. 0. 0. 0.]]\n"
          ]
        }
      ]
    },
    {
      "cell_type": "code",
      "source": [
        "model.save('models/mnnistCNN.h5')"
      ],
      "metadata": {
        "id": "meUGr9mwPYck"
      },
      "execution_count": 33,
      "outputs": []
    },
    {
      "cell_type": "code",
      "source": [
        "# Importing the Keras Libraries and packages\n",
        "from tensorflow.keras.models import load_model\n",
        "model = load_model(r'C:/Users/DELL/Hand written recognition System/models/mnistCNN.h5') from PIL import Image#used for manipulating image uploaded by the user.\n",
        "import numpy as np used for numerical analysis\n",
        "for index in range(4):\n",
        "img Image.open('data/' + = str(index) '.png').convert(\"L\")# convert image to monochrome +\n",
        "img=img.resize((28,28))# resizing of input image\n",
        "im2arr - np.array(img) #converting to image\n",
        "im2arr = im2arr.reshape(1,28,28,1) #reshaping according to our requirement\n",
        "# Predicting the Test set results\n",
        "y_pred = model.predict(im2arr) #predicting the results\n",
        "print(y_pred)\n"
      ],
      "metadata": {
        "id": "oNc1ZGthPf9w",
        "outputId": "02fe7330-d57f-44fd-b1ec-25a3767fbed5",
        "colab": {
          "base_uri": "https://localhost:8080/",
          "height": 182
        }
      },
      "execution_count": 36,
      "outputs": [
        {
          "output_type": "error",
          "ename": "SyntaxError",
          "evalue": "ignored",
          "traceback": [
            "\u001b[0;36m  File \u001b[0;32m\"<ipython-input-36-13c02c7ca866>\"\u001b[0;36m, line \u001b[0;32m3\u001b[0m\n\u001b[0;31m    model = load_model(r'C:/Users/DELL/Hand written recognition System/models/mnistCNN.h5') from PIL import Image#used for manipulating image uploaded by the user.\u001b[0m\n\u001b[0m                                                                                               ^\u001b[0m\n\u001b[0;31mSyntaxError\u001b[0m\u001b[0;31m:\u001b[0m invalid syntax\n"
          ]
        }
      ]
    },
    {
      "cell_type": "code",
      "source": [
        "from flask import Flask, render_template, request# Flask-It is our framework which we are going to use to run/serve our application.\n",
        "#request-for accessing file which was uploaded by the user on our application.\n",
        "from PIL import Image #used for manipulating image uploaded by the user.\n",
        "import numpy as np #used for numerical analysis\n",
        "from tensorflow.keras.models import load_model#to Load our model trained with MNIST data\n",
        "import tensorflow as tf#to run our model."
      ],
      "metadata": {
        "id": "rZDH9A7CR7rI"
      },
      "execution_count": 37,
      "outputs": []
    },
    {
      "cell_type": "code",
      "source": [
        "@app.route('/') #default route def upload_file():\n",
        "return render_template('main.html') #rendering html page\n",
        "@app.route('/about') #Main page route def upload_file1():\n",
        "return render_template('main.html') #rendering html page\n",
        "@app.route('/upload') #main page route def upload_file2():\n",
        "return render_template('index6.html')"
      ],
      "metadata": {
        "id": "asgOnh5HSM_6",
        "outputId": "bed62947-1c57-41e7-d205-ecd3d89a5d31",
        "colab": {
          "base_uri": "https://localhost:8080/",
          "height": 130
        }
      },
      "execution_count": 38,
      "outputs": [
        {
          "output_type": "error",
          "ename": "SyntaxError",
          "evalue": "ignored",
          "traceback": [
            "\u001b[0;36m  File \u001b[0;32m\"<ipython-input-38-705c2dd92249>\"\u001b[0;36m, line \u001b[0;32m2\u001b[0m\n\u001b[0;31m    return render_template('main.html') #rendering html page\u001b[0m\n\u001b[0m         ^\u001b[0m\n\u001b[0;31mSyntaxError\u001b[0m\u001b[0;31m:\u001b[0m invalid syntax\n"
          ]
        }
      ]
    },
    {
      "cell_type": "code",
      "source": [
        "if(y_pred == 0): return render_template(\"0.html\", showcase = str(y_pred))\n",
        "elif(y_pred == 1) :\n",
        "return render_template(\"1.html\",showcase str(y_pred))\n",
        "elif(y_pred == 2) :' return render_template(\"2.html\", showcase = str(y_pred))\n",
        "elif(y_pred == 3) : return render_template(\"3.html\", showcase = str(y_pred))\n",
        "elif(y_pred == 4): return render_template(\"4.html\", showcase = str(y_pred))\n",
        "elif(y_pred == 5): return render_template(\"5.html\",showcase str(y_pred)) elif(y_pred == 6):\n",
        "return render_template(\"6.html\", showcase = str(y_pred)) elif(y_pred == 7) :\n",
        "return render_template(\"7.html\", showcase = str(y_pred))\n",
        "elif(y_pred == 8):\n",
        "return render_template(\"8.html\", showcase = str(y_pred)) else :\n",
        "return render_template(\"9.html\",showcase str(y_pred)) else:\n",
        "return None"
      ],
      "metadata": {
        "id": "wI6_m6yZV20F",
        "outputId": "35422014-2083-4e3f-f02b-1d066549f60a",
        "colab": {
          "base_uri": "https://localhost:8080/",
          "height": 130
        }
      },
      "execution_count": 39,
      "outputs": [
        {
          "output_type": "error",
          "ename": "IndentationError",
          "evalue": "ignored",
          "traceback": [
            "\u001b[0;36m  File \u001b[0;32m\"<ipython-input-39-87801a502777>\"\u001b[0;36m, line \u001b[0;32m3\u001b[0m\n\u001b[0;31m    return render_template(\"1.html\",showcase str(y_pred))\u001b[0m\n\u001b[0m         ^\u001b[0m\n\u001b[0;31mIndentationError\u001b[0m\u001b[0;31m:\u001b[0m expected an indented block\n"
          ]
        }
      ]
    },
    {
      "cell_type": "code",
      "source": [
        "(base) C:\\Users\\DELL>cd C:\\Users\\DELL\\Hand_Written_Final\n",
        "(base) C:\\Users\\DELL\\Hand_Written_Final>python app.py"
      ],
      "metadata": {
        "id": "3uegktNgWdJb",
        "outputId": "55012b03-69a0-4d90-988f-96df3116ab02",
        "colab": {
          "base_uri": "https://localhost:8080/",
          "height": 130
        }
      },
      "execution_count": 40,
      "outputs": [
        {
          "output_type": "error",
          "ename": "SyntaxError",
          "evalue": "ignored",
          "traceback": [
            "\u001b[0;36m  File \u001b[0;32m\"<ipython-input-40-32bffaa88cfb>\"\u001b[0;36m, line \u001b[0;32m1\u001b[0m\n\u001b[0;31m    (base) C:\\Users\\DELL>cd C:\\Users\\DELL\\Hand_Written_Final\u001b[0m\n\u001b[0m           ^\u001b[0m\n\u001b[0;31mSyntaxError\u001b[0m\u001b[0;31m:\u001b[0m invalid syntax\n"
          ]
        }
      ]
    }
  ]
}